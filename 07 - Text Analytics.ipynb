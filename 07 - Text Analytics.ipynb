{
  "cells": [
    {
      "cell_type": "markdown",
      "metadata": {},
      "source": [
        "# Text Analytics\n",
        "\n",
        "NLP(Natural Language Processing)는 문어와 구어를 다루는 AI(인공 지능)의 한 분야입니다. NLP를 사용하여 텍스트나 음성에서 의미를 추출하거나 의미 있는 답변을 자연어로 조합하는 솔루션을 구축할 수 있습니다.\n",
        "\n",
        "Microsoft Azure *Cognitive Services*에는 텍스트에서 핵심 문구를 식별하고 감정을 바탕으로 텍스트를 분류하는 등 몇 가지 기본 NLP 기능을 제공하는 *Text Analytics* 서비스가 포함되어 있습니다.\n",
        "\n",
        "![노트북을 읽고 있는 로봇](./images/NLP.jpg)\n",
        "\n",
        "예를 들어 *Margie's Travel*이라는 가상의 단체가 고객에게 호텔 숙박에 대한 리뷰를 제출하도록 권장한다고 가정해 보세요. Text Analytics 서비스를 사용하면 핵심 문구를 추출하여 리뷰를 요약하거나, 긍정적 리뷰와 부정적 리뷰를 판단하거나, 리뷰 텍스트를 분석하여 위치나 사람과 같은 알려진 엔티티에 대한 언급을 확인할 수 있습니다.\n",
        "\n",
        "## 리뷰 문서 검토\n",
        "\n",
        "먼저 고객들이 남긴 몇 가지 호텔 리뷰를 살펴보겠습니다.\n",
        "\n",
        "리뷰는 텍스트 파일로 되어 있습니다. 리뷰를 보려면 셀 왼쪽에 있는 **셀 실행**(&#9655;) 단추를 클릭하여 아래의 코드를 실행하면 됩니다."
      ]
    },
    {
      "cell_type": "code",
      "execution_count": 2,
      "metadata": {
        "gather": {
          "logged": 1599694576263
        }
      },
      "outputs": [
        {
          "name": "stdout",
          "output_type": "stream",
          "text": [
            "review3.txt\n",
            "Good location and helpful staff, but on a busy road.\n",
            "The Lombard Hotel, San Francisco, USA\n",
            "8/16/2018\n",
            "We stayed here in August after reading reviews. We were very pleased with location, just behind Chestnut Street, a cosmopolitan and trendy area with plenty of restaurants to choose from. The\n",
            "Marina district was lovely to wander through, very interesting houses. Make sure to walk to the San Francisco Museum of Fine Arts and the Marina to get a good view of Golden Gate bridge and the city. On a bus route and easy to get into centre. Rooms were clean with plenty of room and staff were friendly and helpful. The only down side was the noise from Lombard Street so ask to have a room furthest away from traffic noise.\n",
            "\n",
            "review2.txt\n",
            "Tired hotel with poor service\n",
            "The Royal Hotel, London, United Kingdom\n",
            "5/6/2018\n",
            "This is a old hotel (has been around since 1950's) and the room furnishings are average - becoming a bit old now and require changing. The internet didn't work and had to come to one of their office rooms to check in for my flight home. The website says it's close to the British Museum, but it's too far to walk.\n",
            "\n",
            "review1.txt\n",
            "Good Hotel and staff\n",
            "The Royal Hotel, London, UK\n",
            "3/2/2018\n",
            "Clean rooms, good service, great location near Buckingham Palace and Westminster Abbey, and so on. We thoroughly enjoyed our stay. The courtyard is very peaceful and we went to a restaurant which is part of the same group and is Indian ( West coast so plenty of fish) with a Michelin Star. We had the taster menu which was fabulous. The rooms were very well appointed with a kitchen, lounge, bedroom and enormous bathroom. Thoroughly recommended.\n",
            "\n",
            "review4.txt\n",
            "Very noisy and rooms are tiny\n",
            "The Lombard Hotel, San Francisco, USA\n",
            "9/5/2018\n",
            "Hotel is located on Lombard street which is a very busy SIX lane street directly off the Golden Gate Bridge. Traffic from early morning until late at night especially on weekends. Noise would not be so bad if rooms were better insulated but they are not. Had to put cotton balls in my ears to be able to sleep--was too tired to enjoy the city the next day. Rooms are TINY. I picked the room because it had two queen size beds--but the room barely had space to fit them. With family of four in the room it was tight. With all that said, rooms are clean and they've made an effort to update them. The hotel is in Marina district with lots of good places to eat, within walking distance to Presidio. May be good hotel for young stay-up-late adults on a budget\n",
            "\n",
            "\n"
          ]
        }
      ],
      "source": [
        "import os\n",
        "\n",
        "# Read the reviews in the /data/reviews folder\n",
        "reviews_folder = os.path.join('data', 'text', 'reviews')\n",
        "\n",
        "# Create a collection of reviews with id (file name) and text (contents) properties\n",
        "reviews = []\n",
        "for file_name in os.listdir(reviews_folder):\n",
        "    review_text = open(os.path.join(reviews_folder, file_name)).read()\n",
        "    review = {\"id\": file_name, \"text\": review_text}\n",
        "    reviews.append(review)\n",
        "\n",
        "for review_num in range(len(reviews)):\n",
        "    # print the review text\n",
        "    print('{}\\n{}\\n'.format(reviews[review_num]['id'], reviews[review_num]['text']))"
      ]
    },
    {
      "cell_type": "markdown",
      "metadata": {},
      "source": [
        "## Cognitive Services 리소스 만들기\n",
        "\n",
        "이 리뷰에서 텍스트를 분석하기 위해 **Text Analytics** Cognitive Service를 사용할 수 있습니다. 이 기능을 사용하려면 Azure 구독에서 **Text Analytics** 또는 **Cognitive Services** 리소스를 프로비전해야 합니다. (사용하려는 유일한 서비스이거나 사용량을 따로 추적하려는 경우 Text Analytics 리소스를 합니다. 아니면 Cognitive Services 리소스를 사용하여 Text Analytics 서비스를 다른 Cognitive Services와 결합함으로써 개발자가 단일 엔드포인트와 키를 사용하여 액세스하도록 할 수 있습니다.)\n",
        "\n",
        "아직 없다면 다음 단계를 따라 Azure 구독에서 **Cognitive Services** 리소스를 만듭니다.\n",
        "\n",
        "> **참고**: 이미 Cognitive Services 리소스를 보유하고 있다면 Azure Portal에서 **빠른 시작** 페이지를 열고 키 및 엔드포인트를 아래의 셀로 복사하기만 하면 됩니다. 리소스가 없다면 아래의 단계를 따라 리소스를 만듭니다.\n",
        "\n",
        "1. 다른 브라우저 탭에서 Azure Portal(https://portal.azure.com) 을 열고 Microsoft 계정으로 로그인합니다.\n",
        "2. **&#65291;리소스 만들기** 단추를 클릭하고, *Cognitive Services*를 검색하고, 다음 설정을 사용하여 **Cognitive Services** 리소스를 만듭니다.\n",
        "    - **구독**: *사용자의 Azure 구독*.\n",
        "    - **리소스 그룹**: *고유한 이름의 새 리소스 그룹을 선택하거나 만듭니다*.\n",
        "    - **지역**: *사용 가능한 지역을 선택합니다*.\n",
        "    - **이름**: *고유한 이름을 입력합니다*.\n",
        "    - **가격 책정 계층**: S0\n",
        "    - **알림을 읽고 이해했음을 확인합니다**. 선택됨.\n",
        "3. 배포가 완료될 때까지 기다립니다. 그런 다음에 Cognitive Services 리소스로 이동하고, **개요** 페이지에서 링크를 클릭하여 서비스의 키를 관리합니다. 클라이언트 애플리케이션에서 Cognitive Services 리소스에 연결하려면 엔드포인트 및 키가 필요합니다.\n",
        "\n",
        "### Cognitive Services 리소스의 키 및 엔드포인트 가져오기\n",
        "\n",
        "Cognitive Services 리소스를 사용하려면 클라이언트 애플리케이션에 해당 엔드포인트 및 인증 키가 필요합니다.\n",
        "\n",
        "1. Azure Portal에 있는 Cognitive Service 리소스의 **키 및 엔드포인트** 페이지에서 리소스의 **Key1**을 복사하고 아래 코드에 붙여 넣어 **YOUR_COG_KEY**를 대체합니다.\n",
        "2. 리소스의 **엔드포인트**를 복사하고 아래 코드에 붙여 넣어 **YOUR_COG_ENDPOINT**를 대체합니다.\n",
        "3. 녹색 <span style=\"color:green\">&#9655;</span> 단추를 클릭하여 아래의 셀에 있는 코드를 실행합니다."
      ]
    },
    {
      "cell_type": "code",
      "execution_count": 3,
      "metadata": {
        "gather": {
          "logged": 1599694661070
        }
      },
      "outputs": [
        {
          "name": "stdout",
          "output_type": "stream",
          "text": [
            "Ready to use cognitive services at https://ai-900-kwcgs.cognitiveservices.azure.com/ using key 149b9a076c7d48dd98f306cec2e540c4\n"
          ]
        }
      ],
      "source": [
        "cog_key = '149b9a076c7d48dd98f306cec2e540c4'\n",
        "cog_endpoint = 'https://ai-900-kwcgs.cognitiveservices.azure.com/'\n",
        "\n",
        "print('Ready to use cognitive services at {} using key {}'.format(cog_endpoint, cog_key))"
      ]
    },
    {
      "cell_type": "markdown",
      "metadata": {},
      "source": [
        "## 언어 감지\n",
        "먼저 이 리뷰가 작성된 언어를 식별하겠습니다."
      ]
    },
    {
      "cell_type": "code",
      "execution_count": 4,
      "metadata": {
        "gather": {
          "logged": 1599694675019
        }
      },
      "outputs": [
        {
          "name": "stdout",
          "output_type": "stream",
          "text": [
            "review3.txt\n",
            " - Language: English\n",
            " - Code: en\n",
            " - Score: 1.0\n",
            "\n",
            "review2.txt\n",
            " - Language: English\n",
            " - Code: en\n",
            " - Score: 1.0\n",
            "\n",
            "review1.txt\n",
            " - Language: English\n",
            " - Code: en\n",
            " - Score: 1.0\n",
            "\n",
            "review4.txt\n",
            " - Language: English\n",
            " - Code: en\n",
            " - Score: 1.0\n",
            "\n"
          ]
        }
      ],
      "source": [
        "import os\n",
        "from azure.cognitiveservices.language.textanalytics import TextAnalyticsClient\n",
        "from msrest.authentication import CognitiveServicesCredentials\n",
        "\n",
        "# Get a client for your text analytics cognitive service resource\n",
        "text_analytics_client = TextAnalyticsClient(endpoint=cog_endpoint,\n",
        "                                            credentials=CognitiveServicesCredentials(cog_key))\n",
        "\n",
        "# Analyze the reviews you read from the /data/reviews folder earlier\n",
        "language_analysis = text_analytics_client.detect_language(documents=reviews)\n",
        "\n",
        "# print detected language details for each review\n",
        "for review_num in range(len(reviews)):\n",
        "    # print the review id\n",
        "    print(reviews[review_num]['id'])\n",
        "\n",
        "    # Get the language details for this review\n",
        "    lang = language_analysis.documents[review_num].detected_languages[0]\n",
        "    print(' - Language: {}\\n - Code: {}\\n - Score: {}\\n'.format(lang.name, lang.iso6391_name, lang.score))\n",
        "\n",
        "    # Add the detected language code to the collection of reviews (so we can do further analysis)\n",
        "    reviews[review_num][\"language\"] = lang.iso6391_name"
      ]
    },
    {
      "cell_type": "markdown",
      "metadata": {},
      "source": [
        "## 핵심 문구 추출\n",
        "\n",
        "이제 고객 리뷰의 텍스트를 분석하여 주요 화제에 대해 언급하는 핵심 문구를 식별할 수 있습니다."
      ]
    },
    {
      "cell_type": "code",
      "execution_count": 7,
      "metadata": {
        "gather": {
          "logged": 1599694682067
        }
      },
      "outputs": [
        {
          "name": "stdout",
          "output_type": "stream",
          "text": [
            "review3.txt\n",
            "\n",
            "Key Phrases:\n",
            "{'additional_properties': {}, 'id': 'review3.txt', 'key_phrases': ['helpful staff', 'Lombard Street', 'Good location', 'Chestnut Street', 'Lombard Hotel', 'Marina district', 'traffic noise', 'San Francisco Museum of Fine Arts', 'good view of Golden Gate bridge', 'trendy area', 'USA', 'city', 'bus route', 'busy road', 'centre', 'restaurants', 'Rooms', 'interesting houses', 'reviews'], 'statistics': None}\n",
            "\t helpful staff\n",
            "\t Lombard Street\n",
            "\t Good location\n",
            "\t Chestnut Street\n",
            "\t Lombard Hotel\n",
            "\t Marina district\n",
            "\t traffic noise\n",
            "\t San Francisco Museum of Fine Arts\n",
            "\t good view of Golden Gate bridge\n",
            "\t trendy area\n",
            "\t USA\n",
            "\t city\n",
            "\t bus route\n",
            "\t busy road\n",
            "\t centre\n",
            "\t restaurants\n",
            "\t Rooms\n",
            "\t interesting houses\n",
            "\t reviews\n",
            "\n",
            "\n",
            "review2.txt\n",
            "\n",
            "Key Phrases:\n",
            "{'additional_properties': {}, 'id': 'review2.txt', 'key_phrases': ['old hotel', 'Royal Hotel', 'Tired hotel', 'London', 'United Kingdom', 'room furnishings', 'poor service', 'British Museum', 'website', 'office rooms', 'flight home', 'internet'], 'statistics': None}\n",
            "\t old hotel\n",
            "\t Royal Hotel\n",
            "\t Tired hotel\n",
            "\t London\n",
            "\t United Kingdom\n",
            "\t room furnishings\n",
            "\t poor service\n",
            "\t British Museum\n",
            "\t website\n",
            "\t office rooms\n",
            "\t flight home\n",
            "\t internet\n",
            "\n",
            "\n",
            "review1.txt\n",
            "\n",
            "Key Phrases:\n",
            "{'additional_properties': {}, 'id': 'review1.txt', 'key_phrases': ['Good Hotel', 'good service', 'Clean rooms', 'Royal Hotel', 'great location', 'Buckingham Palace', 'Westminster Abbey', 'fish', 'West coast', 'lounge', 'bedroom', 'enormous bathroom', 'group', 'kitchen', 'London', 'UK', 'taster menu', 'Michelin Star', 'staff', 'courtyard'], 'statistics': None}\n",
            "\t Good Hotel\n",
            "\t good service\n",
            "\t Clean rooms\n",
            "\t Royal Hotel\n",
            "\t great location\n",
            "\t Buckingham Palace\n",
            "\t Westminster Abbey\n",
            "\t fish\n",
            "\t West coast\n",
            "\t lounge\n",
            "\t bedroom\n",
            "\t enormous bathroom\n",
            "\t group\n",
            "\t kitchen\n",
            "\t London\n",
            "\t UK\n",
            "\t taster menu\n",
            "\t Michelin Star\n",
            "\t staff\n",
            "\t courtyard\n",
            "\n",
            "\n",
            "review4.txt\n",
            "\n",
            "Key Phrases:\n",
            "{'additional_properties': {}, 'id': 'review4.txt', 'key_phrases': ['rooms', 'good hotel', 'Lombard Hotel', 'Lombard street', 'late adults', 'good places', 'lane street', 'young stay', 'night', 'early morning', 'Marina district', 'San Francisco', 'USA', 'Golden Gate Bridge', 'walking distance', 'queen size beds', 'ears', 'Traffic', 'cotton balls', 'city', 'Presidio', 'weekends', 'budget', 'day', 'effort', 'Noise', 'space', 'family'], 'statistics': None}\n",
            "\t rooms\n",
            "\t good hotel\n",
            "\t Lombard Hotel\n",
            "\t Lombard street\n",
            "\t late adults\n",
            "\t good places\n",
            "\t lane street\n",
            "\t young stay\n",
            "\t night\n",
            "\t early morning\n",
            "\t Marina district\n",
            "\t San Francisco\n",
            "\t USA\n",
            "\t Golden Gate Bridge\n",
            "\t walking distance\n",
            "\t queen size beds\n",
            "\t ears\n",
            "\t Traffic\n",
            "\t cotton balls\n",
            "\t city\n",
            "\t Presidio\n",
            "\t weekends\n",
            "\t budget\n",
            "\t day\n",
            "\t effort\n",
            "\t Noise\n",
            "\t space\n",
            "\t family\n",
            "\n",
            "\n"
          ]
        }
      ],
      "source": [
        "# # Use the client and reviews you created in the previous code cell to get key phrases\n",
        "key_phrase_analysis = text_analytics_client.key_phrases(documents=reviews)\n",
        "\n",
        "# print key phrases for each review\n",
        "for review_num in range(len(reviews)):\n",
        "    # print the review id\n",
        "    print(reviews[review_num]['id'])\n",
        "\n",
        "    # Get the key phrases in this review\n",
        "    print('\\nKey Phrases:')\n",
        "    key_phrases = key_phrase_analysis.documents[review_num].key_phrases\n",
        "    print(key_phrase_analysis.documents[review_num])\n",
        "     # Print each key phrase\n",
        "    for key_phrase in key_phrases:\n",
        "        print('\\t', key_phrase)\n",
        "    print('\\n')"
      ]
    },
    {
      "cell_type": "markdown",
      "metadata": {},
      "source": [
        "핵심 문구는 각 리뷰에서 가장 중요한 화제를 이해하는 데 도움이 될 수 있습니다. 예를 들어 \"도움이 되는 직원\" 또는 \"서비스 불량\"이라는 문구가 포함된 리뷰는 리뷰어의 주 관심사를 어느 정도 나타낼 수 있습니다.\n",
        "\n",
        "## 감정 판단\n",
        "\n",
        "*감정 점수*를 바탕으로 리뷰를 *긍정적* 또는 *부정적*으로 분류하는 것이 유용할 수 있습니다. 이것 역시 Text Analytics 서비스를 사용하여 수행할 수 있습니다."
      ]
    },
    {
      "cell_type": "code",
      "execution_count": 9,
      "metadata": {
        "gather": {
          "logged": 1599694685535
        }
      },
      "outputs": [
        {
          "name": "stdout",
          "output_type": "stream",
          "text": [
            "0.9999995231628418\n",
            "review3.txt : positive (0.9999995232)\n",
            "5.662441253662109e-07\n",
            "review2.txt : negative (0.0000005662)\n",
            "0.9999973773956299\n",
            "review1.txt : positive (0.9999973774)\n",
            "2.0623207092285156e-05\n",
            "review4.txt : negative (0.0000206232)\n"
          ]
        }
      ],
      "source": [
        "# Use the client and reviews you created previously to get sentiment scores\n",
        "sentiment_analysis = text_analytics_client.sentiment(documents=reviews)\n",
        "\n",
        "# Print the results for each revieww\n",
        "for review_num in range(len(reviews)):\n",
        "\n",
        "    # Get the sentiment score for this review\n",
        "    sentiment_score = sentiment_analysis.documents[review_num].score\n",
        "    print(sentiment_score)\n",
        "\n",
        "    # classifiy 'positive' if more than 0.5, \n",
        "    if sentiment_score < 0.5:\n",
        "        sentiment = 'negative'\n",
        "    else:\n",
        "        sentiment = 'positive'\n",
        "\n",
        "    # print file name and sentiment\n",
        "    print('{} : {} ({:.10f})'.format(reviews[review_num]['id'], sentiment, sentiment_score))"
      ]
    },
    {
      "cell_type": "markdown",
      "metadata": {},
      "source": [
        "## 알려진 엔터티 추출\n",
        "\n",
        "*엔터티*는 텍스트에서 언급되면서 몇몇 잘 알려진 유형의 항목을 나타내는 요소입니다. 위치, 사람, 날짜를 예로 들 수 있습니다. 리뷰에 언급된 날짜와 장소에 관심이 있다고 가정해 보세요. 다음 코드를 사용하여 날짜와 장소를 찾을 수 있습니다."
      ]
    },
    {
      "cell_type": "code",
      "execution_count": 12,
      "metadata": {
        "gather": {
          "logged": 1599694688496
        }
      },
      "outputs": [
        {
          "name": "stdout",
          "output_type": "stream",
          "text": [
            "review3.txt\n",
            " - Location: Lombardy (https://en.wikipedia.org/wiki/Lombardy)\n",
            " - Organization: Lombard Hotel \n",
            " - Location: San Francisco (https://en.wikipedia.org/wiki/San_Francisco)\n",
            " - Location: San Francisco \n",
            " - Location: USA \n",
            " - DateTime: 8/16/2018 \n",
            " - DateTime: August \n",
            " - Location: Chestnut Street (Philadelphia) (https://en.wikipedia.org/wiki/Chestnut_Street_(Philadelphia))\n",
            " - Location: Marina \n",
            " - Location: Marina District, San Francisco (https://en.wikipedia.org/wiki/Marina_District,_San_Francisco)\n",
            " - Organization: San Francisco Museum of Fine Arts \n",
            " - Organization: Museum of Fine Arts, Boston (https://en.wikipedia.org/wiki/Museum_of_Fine_Arts,_Boston)\n",
            " - Location: Golden Gate Bridge (https://en.wikipedia.org/wiki/Golden_Gate_Bridge)\n",
            " - Location: Golden Gate \n",
            " - Location: Lombard Street (San Francisco) (https://en.wikipedia.org/wiki/Lombard_Street_(San_Francisco))\n",
            "review2.txt\n",
            " - Location: The Royal Hotel (https://en.wikipedia.org/wiki/The_Royal_Hotel)\n",
            " - Location: London (https://en.wikipedia.org/wiki/London)\n",
            " - Location: London \n",
            " - Location: United Kingdom \n",
            " - DateTime: 5/6/2018 \n",
            " - DateTime: since 1950's \n",
            " - DateTime: now \n",
            " - Location: British Museum (https://en.wikipedia.org/wiki/British_Museum)\n",
            " - Organization: British Museum \n",
            "review1.txt\n",
            " - Organization: GOOD Music (https://en.wikipedia.org/wiki/GOOD_Music)\n",
            " - Organization: Good Hotel \n",
            " - Location: The Royal Hotel (https://en.wikipedia.org/wiki/The_Royal_Hotel)\n",
            " - Location: London (https://en.wikipedia.org/wiki/London)\n",
            " - Location: London \n",
            " - Location: UK \n",
            " - DateTime: 3/2/2018 \n",
            " - Location: Buckingham Palace (https://en.wikipedia.org/wiki/Buckingham_Palace)\n",
            " - Location: Westminster Abbey (https://en.wikipedia.org/wiki/Westminster_Abbey)\n",
            " - Organization: Westminster Abbey \n",
            " - Location: India (https://en.wikipedia.org/wiki/India)\n",
            " - Location: West Coast Main Line (https://en.wikipedia.org/wiki/West_Coast_Main_Line)\n",
            "review4.txt\n",
            " - Location: Lombard, Illinois (https://en.wikipedia.org/wiki/Lombard,_Illinois)\n",
            " - Location: San Francisco (https://en.wikipedia.org/wiki/San_Francisco)\n",
            " - Location: San Francisco \n",
            " - Location: USA \n",
            " - DateTime: 9/5/2018 \n",
            " - Location: Lombard Street (San Francisco) (https://en.wikipedia.org/wiki/Lombard_Street_(San_Francisco))\n",
            " - Location: Lombard \n",
            " - Location: Golden Gate Bridge (https://en.wikipedia.org/wiki/Golden_Gate_Bridge)\n",
            " - DateTime: early morning \n",
            " - DateTime: night \n",
            " - DateTime: weekends \n",
            " - DateTime: the next day \n",
            " - Location: Marina \n",
            " - Location: Marina District, San Francisco (https://en.wikipedia.org/wiki/Marina_District,_San_Francisco)\n",
            " - Location: Presidio of San Francisco (https://en.wikipedia.org/wiki/Presidio_of_San_Francisco)\n"
          ]
        }
      ],
      "source": [
        "# Use the client and reviews you created previously to get named entities\n",
        "entity_analysis = text_analytics_client.entities(documents=reviews)\n",
        "\n",
        "# Print the results for each review\n",
        "for review_num in range(len(reviews)):\n",
        "    print(reviews[review_num]['id'])\n",
        "    # Get the named entitites in this review\n",
        "    entities = entity_analysis.documents[review_num].entities\n",
        "    for entity in entities:\n",
        "        # 값을 확인 print(\"entity :: {}\".format(entity))\n",
        "        # Only print datetime or location entitites\n",
        "        if entity.type in ['DateTime','Location', 'Organization']:\n",
        "            link = '(' + entity.wikipedia_url + ')' if entity.wikipedia_id is not None else ''\n",
        "            print(' - {}: {} {}'.format(entity.type, entity.name, link))"
      ]
    },
    {
      "cell_type": "markdown",
      "metadata": {},
      "source": [
        "일부 엔터티는 연관된 Wikipedia 페이지가 있을 정도로 잘 알려져 있으며, 이 경우 Text Analytics 서비스는 해당 페이지의 URL을 반환합니다.\n",
        "\n",
        "## 자세한 내용\n",
        "\n",
        "Text Analytics 서비스에 대한 자세한 내용은 [Text Analytics 서비스 설명서](https://docs.microsoft.com/azure/cognitive-services/text-analytics/)를 참조하세요."
      ]
    }
  ],
  "metadata": {
    "kernel_info": {
      "name": "python3-azureml"
    },
    "kernelspec": {
      "display_name": "Python 3.9.12 ('base')",
      "language": "python",
      "name": "python3"
    },
    "language_info": {
      "codemirror_mode": {
        "name": "ipython",
        "version": 3
      },
      "file_extension": ".py",
      "mimetype": "text/x-python",
      "name": "python",
      "nbconvert_exporter": "python",
      "pygments_lexer": "ipython3",
      "version": "3.9.12"
    },
    "nteract": {
      "version": "nteract-front-end@1.0.0"
    },
    "vscode": {
      "interpreter": {
        "hash": "40d3a090f54c6569ab1632332b64b2c03c39dcf918b08424e98f38b5ae0af88f"
      }
    }
  },
  "nbformat": 4,
  "nbformat_minor": 2
}
