{
  "cells": [
    {
      "cell_type": "markdown",
      "metadata": {},
      "source": [
        "# 번역\n",
        "\n",
        "인류 문명이 발전할 수 있었던 원동력 중 하나는 서로 커뮤니케이션하는 능력입니다. 대부분의 인적 작업에서는 커뮤니케이션이 핵심입니다.\n",
        "\n",
        "![여러 언어를 사용하는 로봇](./images/translation.jpg)\n",
        "\n",
        "AI(인공 지능)는 언어 간에 텍스트 또는 음성을 번역함으로써 커뮤니케이션을 단순화하여 국가와 문화 간 커뮤니케이션 장벽을 제거하는 데 도움을 줄 수 있습니다.\n",
        "\n",
        "## Cognitive Services 리소스 만들기\n",
        "\n",
        "Azure에서는 Cognitive Services를 사용하여 여러 언어 간에 번역할 수 있습니다.\n",
        "\n",
        "아직 없다면 다음 단계를 따라 Azure 구독에서 **Cognitive Services** 리소스를 만듭니다.\n",
        "\n",
        "> **참고**: 이미 Cognitive Services 리소스를 보유하고 있다면 Azure Portal에서 **빠른 시작** 페이지를 열고 키 및 엔드포인트를 아래의 셀로 복사하기만 하면 됩니다. 리소스가 없다면 아래의 단계를 따라 리소스를 만듭니다.\n",
        "\n",
        "1. 다른 브라우저 탭에서 Azure Portal(https://portal.azure.com) 을 열고 Microsoft 계정으로 로그인합니다.\n",
        "2. **&#65291;리소스 만들기** 단추를 클릭하고, *Cognitive Services*를 검색하고, 다음 설정을 사용하여 **Cognitive Services** 리소스를 만듭니다.\n",
        "    - **구독**: *사용자의 Azure 구독*.\n",
        "    - **리소스 그룹**: *고유한 이름의 새 리소스 그룹을 선택하거나 만듭니다*.\n",
        "    - **지역**: *사용 가능한 지역을 선택합니다*.\n",
        "    - **이름**: *고유한 이름을 입력합니다*.\n",
        "    - **가격 책정 계층**: S0\n",
        "    - **알림을 읽고 이해했음을 확인합니다**. 선택됨.\n",
        "3. 배포가 완료될 때까지 기다립니다. 그런 다음에 Cognitive Services 리소스로 이동하고, **개요** 페이지에서 링크를 클릭하여 서비스의 키를 관리합니다. 클라이언트 애플리케이션에서 Cognitive Services 리소스에 연결하려면 엔드포인트 및 키가 필요합니다.\n",
        "\n",
        "### Cognitive Services 리소스의 키 및 위치 가져오기\n",
        "\n",
        "Cognitive Services 리소스를 사용하려면 클라이언트 애플리케이션에 인증 키 및 위치가 필요합니다.\n",
        "\n",
        "1. Azure Portal에 있는 Cognitive Service 리소스의 **키 및 엔드포인트** 페이지에서 리소스의 **Key1**을 복사하고 아래 코드에 붙여 넣어 **YOUR_COG_KEY**를 대체합니다.\n",
        "2. 리소스의 **위치**를 복사하고 아래 코드에 붙여 넣어 **YOUR_COG_LOCATION**를 대체합니다.\n",
        ">**참고**: **키 및 엔드포인트** 페이지에 그대로 있으면서 이 페이지에서 **위치**를 복사하세요(예: _westus_). 위치 필드의 단어 사이에 공백을 추가해서는 _안 됩니다_. \n",
        "3. 셀 왼쪽에 있는 **셀 실행**(&#9655;) 단추를 클릭하여 아래의 코드를 실행합니다."
      ]
    },
    {
      "cell_type": "code",
      "execution_count": 4,
      "metadata": {
        "gather": {
          "logged": 1599695377020
        }
      },
      "outputs": [
        {
          "name": "stdout",
          "output_type": "stream",
          "text": [
            "Ready to use cognitive services in koreacentral using key 149b9a076c7d48dd98f306cec2e540c4\n"
          ]
        }
      ],
      "source": [
        "cog_key = '149b9a076c7d48dd98f306cec2e540c4'\n",
        "cog_location = 'koreacentral'\n",
        "\n",
        "print('Ready to use cognitive services in {} using key {}'.format(cog_location, cog_key))"
      ]
    },
    {
      "cell_type": "markdown",
      "metadata": {},
      "source": [
        "## 텍스트 번역\n",
        "\n",
        "이름에서 알 수 있듯이 **Translator Text** 서비스는 텍스트를 한 언어에서 다른 언어로 번역할 수 있습니다.\n",
        "\n",
        "이 서비스에는 Python SDK가 없지만 REST 인터페이스를 사용하여 HTTP를 통해 엔드포인트에 요청을 제출할 수 있습니다. Python에서는 **요청** 라이브러리를 사용하여 상대적으로 쉽게 요청할 수 있습니다. 번역할 텍스트에 대한 정보와 최종 번역된 텍스트가 JSON 형식으로 교환됩니다.\n",
        "\n",
        "다음 셀을 실행하여 이러한 작업을 수행하는 기능을 만든 후에 영어에서 프랑스어로 간단하게 번역하여 기능을 테스트해 보세요."
      ]
    },
    {
      "cell_type": "code",
      "execution_count": 7,
      "metadata": {
        "gather": {
          "logged": 1599695393341
        }
      },
      "outputs": [
        {
          "name": "stdout",
          "output_type": "stream",
          "text": [
            "https://api.cognitive.microsofttranslator.com/translate?api-version=3.0&from=en&to=fr\n",
            "<Response [200]>\n",
            "[{'translations': [{'text': 'Bonjour', 'to': 'fr'}]}]\n",
            "Hello -> Bonjour\n"
          ]
        }
      ],
      "source": [
        "# Create a function that makes a REST request to the Text Translation service\n",
        "def translate_text(cog_location, cog_key, text, to_lang='fr', from_lang='en'):\n",
        "    import requests, uuid, json\n",
        "\n",
        "    # Create the URL for the Text Translator service REST request\n",
        "    path = 'https://api.cognitive.microsofttranslator.com/translate?api-version=3.0'    \n",
        "    params = '&from={}&to={}'.format(from_lang, to_lang)\n",
        "    constructed_url = path + params\n",
        "    print(constructed_url)\n",
        "\n",
        "    # Prepare the request headers with Cognitive Services resource key and region\n",
        "    headers = {\n",
        "        'Ocp-Apim-Subscription-Key': cog_key,\n",
        "        'Ocp-Apim-Subscription-Region':cog_location,\n",
        "        'Content-type': 'application/json',\n",
        "        'X-ClientTraceId': str(uuid.uuid4())\n",
        "        # uuid = 네크워크상에서 고유성이 보장된 id를 만들기 위한 표준규약(랜덤값)\n",
        "    }\n",
        "\n",
        "    # Add the text to be translated to the body\n",
        "    body = [{\n",
        "        'text': text\n",
        "    }]\n",
        "\n",
        "    # Get the translation\n",
        "    request = requests.post(constructed_url, headers=headers, json=body)\n",
        "    print(request)\n",
        "    \n",
        "    response = request.json()\n",
        "    print(response)\n",
        "    return response[0][\"translations\"][0][\"text\"]\n",
        "\n",
        "\n",
        "# Test the function\n",
        "text_to_translate = \"Hello\"\n",
        "\n",
        "translation = translate_text(cog_location, cog_key, text_to_translate, to_lang='fr', from_lang='en')\n",
        "print('{} -> {}'.format(text_to_translate,translation))"
      ]
    },
    {
      "cell_type": "markdown",
      "metadata": {},
      "source": [
        "서비스는 영어 텍스트 \"Hello\"를 프랑스어 \"Bonjour\"로 번역해야 합니다.\n",
        "\n",
        "언어는 표준 언어 약어 시스템을 사용하여 지정되어 있습니다. *en*은 영어를 나타내고, *fr*은 프랑스어를 나타냅니다. 특정 문화를 포함하는 약어를 사용할 수도 있습니다. 이는 서로 다른 지역에서 동일 언어를 사용할 때 유용합니다(단어의 철자가 다른 경우가 많음). 예를 들어 *en-US*는 미국 영어를 나타내고, *en-GB*는 영국 영어를 나타냅니다.\n",
        "\n",
        "다음 셀을 실행하여 영국 영어를 이탈리아어로 번역해 보세요."
      ]
    },
    {
      "cell_type": "code",
      "execution_count": 8,
      "metadata": {
        "gather": {
          "logged": 1599695400335
        }
      },
      "outputs": [
        {
          "name": "stdout",
          "output_type": "stream",
          "text": [
            "https://api.cognitive.microsofttranslator.com/translate?api-version=3.0&from=en-GB&to=it-IT\n",
            "<Response [200]>\n",
            "[{'translations': [{'text': 'Ciao', 'to': 'it'}]}]\n",
            "Hello -> Ciao\n"
          ]
        }
      ],
      "source": [
        "text_to_translate = \"Hello\"\n",
        "\n",
        "translation = translate_text(cog_location, cog_key, text_to_translate, to_lang='it-IT', from_lang='en-GB')\n",
        "print('{} -> {}'.format(text_to_translate,translation))"
      ]
    },
    {
      "cell_type": "markdown",
      "metadata": {},
      "source": [
        "다른 번역을 시도해 보겠습니다. 이번에는 미국 영어에서 중국어로 번역합니다."
      ]
    },
    {
      "cell_type": "code",
      "execution_count": 9,
      "metadata": {
        "gather": {
          "logged": 1599695403076
        }
      },
      "outputs": [
        {
          "name": "stdout",
          "output_type": "stream",
          "text": [
            "https://api.cognitive.microsofttranslator.com/translate?api-version=3.0&from=en-US&to=zh-CN\n",
            "<Response [200]>\n",
            "[{'translations': [{'text': '你好', 'to': 'zh-Hans'}]}]\n",
            "Hello -> 你好\n"
          ]
        }
      ],
      "source": [
        "text_to_translate = \"Hello\"\n",
        "\n",
        "translation = translate_text(cog_location, cog_key, text_to_translate, to_lang='zh-CN', from_lang='en-US')\n",
        "print('{} -> {}'.format(text_to_translate,translation))"
      ]
    },
    {
      "cell_type": "markdown",
      "metadata": {},
      "source": [
        "## 음성 번역\n",
        "\n",
        "**Speech** 서비스를 사용하여 음성 언어를 번역할 수 있습니다.\n",
        "\n",
        "이제 다음 셀을 실행하여 Speech SDK를 통해 들리는 음성을 번역하는 기능을 만들고 테스트할 수 있습니다.\n",
        "\n",
        "> **참고**: 오디오를 들으려면 스피커가 필요합니다."
      ]
    },
    {
      "cell_type": "code",
      "execution_count": 10,
      "metadata": {
        "gather": {
          "logged": 1599695532629
        }
      },
      "outputs": [
        {
          "name": "stdout",
          "output_type": "stream",
          "text": [
            "Hello. -> Hola.\n"
          ]
        }
      ],
      "source": [
        "from playsound import playsound \n",
        "\n",
        "# Create a function to translate audio in one language to text in another\n",
        "def translate_speech(cog_location, cog_key, audio_file=None, to_lang='fr-FR', from_lang='en-US'):\n",
        "    from azure.cognitiveservices.speech import SpeechConfig, AudioConfig, ResultReason\n",
        "    from azure.cognitiveservices.speech.translation import SpeechTranslationConfig, TranslationRecognizer\n",
        "\n",
        "    # Configure the speech translation service\n",
        "    translation_config = SpeechTranslationConfig(subscription=cog_key, region=cog_location)\n",
        "    translation_config.speech_recognition_language = from_lang\n",
        "    translation_config.add_target_language(to_lang)\n",
        "\n",
        "    # Configure audio input\n",
        "    if audio_file is None:\n",
        "        audio_config = AudioConfig() # Use default input (microphone)\n",
        "    else:\n",
        "        audio_config = AudioConfig(filename=audio_file) # Use file input\n",
        "\n",
        "    # Create a translation recognizer and use it to translate speech input\n",
        "    recognizer = TranslationRecognizer(translation_config, audio_config)\n",
        "    result = recognizer.recognize_once()\n",
        "\n",
        "    # Did we get it?\n",
        "    translation = ''\n",
        "    speech_text = ''\n",
        "    if result.reason == ResultReason.TranslatedSpeech:\n",
        "        speech_text = result.text\n",
        "        translation =  result.translations[to_lang]\n",
        "    elif result.reason == ResultReason.RecognizedSpeech:\n",
        "        speech_text = result.text\n",
        "        translation =  'Unable to translate speech'\n",
        "    else:\n",
        "        translation = 'Unknown'\n",
        "        speech_text = 'Unknown'\n",
        "\n",
        "    # rturn the translation\n",
        "    return speech_text, translation\n",
        "    \n",
        "\n",
        "# Test the function\n",
        "import os\n",
        "\n",
        "file_name = 'english.wav'\n",
        "file_path = os.path.join('data', 'translation', file_name)\n",
        "speech, translated_speech = translate_speech(cog_location, cog_key, file_path, to_lang='es', from_lang='en-US')\n",
        "result = '{} -> {}'.format(speech, translated_speech)\n",
        "\n",
        "# Show translated text\n",
        "playsound(file_path)\n",
        "print(result)"
      ]
    },
    {
      "cell_type": "markdown",
      "metadata": {},
      "source": [
        "\"번역문\" 언어는 두 글자 언어 코드(예: *en*)로 식별되어야 하는 반면 \"원문\" 언어는 문화 표시자를 포함해야 합니다(예: *en-US*).\n",
        "\n",
        "프랑스어에서 영어로 번역해 보겠습니다."
      ]
    },
    {
      "cell_type": "code",
      "execution_count": 11,
      "metadata": {
        "gather": {
          "logged": 1599695542192
        }
      },
      "outputs": [
        {
          "name": "stdout",
          "output_type": "stream",
          "text": [
            "Bonjour. -> Hello.\n"
          ]
        }
      ],
      "source": [
        "from playsound import playsound\n",
        "import os\n",
        "\n",
        "file_name = 'french.wav'\n",
        "file_path = os.path.join('data', 'translation', file_name)\n",
        "speech, translated_speech = translate_speech(cog_location, cog_key, file_path, to_lang='en', from_lang='fr-FR')\n",
        "result = '{} -> {}'.format(speech, translated_speech)\n",
        "\n",
        "# Show translated text\n",
        "playsound(file_path)\n",
        "print(result)"
      ]
    },
    {
      "cell_type": "markdown",
      "metadata": {},
      "source": [
        "## 자세한 내용\n",
        "\n",
        "서비스 설명서에서 [Translator Text](https://docs.microsoft.com/azure/cognitive-services/translator/) 및 [Speech 서비스로 번역](https://docs.microsoft.com/azure/cognitive-services/speech-service/index-speech-translation)에 대해 자세히 알아볼 수 있습니다."
      ]
    }
  ],
  "metadata": {
    "kernel_info": {
      "name": "python3-azureml"
    },
    "kernelspec": {
      "display_name": "Python 3.9.12 ('base')",
      "language": "python",
      "name": "python3"
    },
    "language_info": {
      "codemirror_mode": {
        "name": "ipython",
        "version": 3
      },
      "file_extension": ".py",
      "mimetype": "text/x-python",
      "name": "python",
      "nbconvert_exporter": "python",
      "pygments_lexer": "ipython3",
      "version": "3.9.12"
    },
    "nteract": {
      "version": "nteract-front-end@1.0.0"
    },
    "vscode": {
      "interpreter": {
        "hash": "40d3a090f54c6569ab1632332b64b2c03c39dcf918b08424e98f38b5ae0af88f"
      }
    }
  },
  "nbformat": 4,
  "nbformat_minor": 2
}
